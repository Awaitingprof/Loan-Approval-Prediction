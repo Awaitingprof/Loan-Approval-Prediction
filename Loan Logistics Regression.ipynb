{
 "cells": [
  {
   "cell_type": "markdown",
   "id": "c93b6a89-8337-424b-8d84-ded81d6541f8",
   "metadata": {},
   "source": [
    " # Logistics Regression Project on Loan datasets"
   ]
  },
  {
   "cell_type": "markdown",
   "id": "5e1bd8ba-9b21-4c7d-9543-d9d8f0d99fe1",
   "metadata": {},
   "source": [
    "## The aim of this project is to predict whether a person will get their loan approved or not using logistic regression. "
   ]
  },
  {
   "cell_type": "code",
   "execution_count": 10,
   "id": "2c1e9947-0cae-446e-992c-92fc8baa3815",
   "metadata": {},
   "outputs": [],
   "source": [
    "import warnings # I am importing warnings to control non-critical messages\n",
    "warnings.filterwarnings('ignore') # I am hiding non-critical warnings for cleaner output"
   ]
  },
  {
   "cell_type": "code",
   "execution_count": 28,
   "id": "d3325e5d-f53e-4706-8fe0-cdc7fe8aad4e",
   "metadata": {},
   "outputs": [],
   "source": [
    "import pandas as pd # I am using pandas to load and manipulate tabular data\n",
    "import numpy as np # I am using numpy for numeric operations and arrays"
   ]
  },
  {
   "cell_type": "markdown",
   "id": "fb8a6984-505e-4f50-bd2b-d0f2c91a2db2",
   "metadata": {},
   "source": [
    "##### Step 1 : Load the Loan dataset"
   ]
  },
  {
   "cell_type": "code",
   "execution_count": 30,
   "id": "cc7b8a8a-98f2-4214-8b0c-b4ab50dc602e",
   "metadata": {},
   "outputs": [],
   "source": [
    "loan = pd.read_csv('loan.csv') # I am reading the CSV file into a DataFrame"
   ]
  },
  {
   "cell_type": "code",
   "execution_count": 20,
   "id": "6f4d46eb-f1d7-4dc9-b381-b830cb94bd50",
   "metadata": {},
   "outputs": [
    {
     "name": "stdout",
     "output_type": "stream",
     "text": [
      "   age  gender  occupation education_level marital_status  income  \\\n",
      "0   32    Male    Engineer      Bachelor's        Married   85000   \n",
      "1   45  Female     Teacher        Master's         Single   62000   \n",
      "2   28    Male     Student     High School         Single   25000   \n",
      "3   51  Female     Manager      Bachelor's        Married  105000   \n",
      "4   36    Male  Accountant      Bachelor's        Married   75000   \n",
      "\n",
      "   credit_score loan_status  \n",
      "0           720    Approved  \n",
      "1           680    Approved  \n",
      "2           590      Denied  \n",
      "3           780    Approved  \n",
      "4           710    Approved  \n"
     ]
    }
   ],
   "source": [
    "print(loan.head())  # I am previewing the first few rows to understand structure"
   ]
  },
  {
   "cell_type": "markdown",
   "id": "453b47e5-36ce-4db4-86e4-d95e8081af4f",
   "metadata": {},
   "source": [
    "#### Step 2: Checking the Data description"
   ]
  },
  {
   "cell_type": "code",
   "execution_count": 22,
   "id": "6ca3069d-5968-4d92-9fd7-a7773dc75f70",
   "metadata": {},
   "outputs": [
    {
     "name": "stdout",
     "output_type": "stream",
     "text": [
      "(61, 8)\n"
     ]
    }
   ],
   "source": [
    "print(loan.shape) # I am checking how many rows and columns I have"
   ]
  },
  {
   "cell_type": "code",
   "execution_count": 24,
   "id": "e98ce11f-6413-4ccf-b338-4acbcb5cf49a",
   "metadata": {},
   "outputs": [
    {
     "name": "stdout",
     "output_type": "stream",
     "text": [
      "age                 int64\n",
      "gender             object\n",
      "occupation         object\n",
      "education_level    object\n",
      "marital_status     object\n",
      "income              int64\n",
      "credit_score        int64\n",
      "loan_status        object\n",
      "dtype: object\n"
     ]
    }
   ],
   "source": [
    "print(loan.dtypes) # I am inspecting data types of each column"
   ]
  },
  {
   "cell_type": "code",
   "execution_count": 26,
   "id": "4101deb1-343b-4c8d-818b-227b63c562c2",
   "metadata": {},
   "outputs": [
    {
     "name": "stdout",
     "output_type": "stream",
     "text": [
      "0\n"
     ]
    }
   ],
   "source": [
    "print(loan.duplicated().sum()) # I am checking for duplicate rows"
   ]
  },
  {
   "cell_type": "code",
   "execution_count": 28,
   "id": "44e57cc8-baad-4cea-9b0f-d91ebd1711b5",
   "metadata": {},
   "outputs": [
    {
     "name": "stdout",
     "output_type": "stream",
     "text": [
      "age                0\n",
      "gender             0\n",
      "occupation         0\n",
      "education_level    0\n",
      "marital_status     0\n",
      "income             0\n",
      "credit_score       0\n",
      "loan_status        0\n",
      "dtype: int64\n"
     ]
    }
   ],
   "source": [
    "print(loan.isna().sum()) # I am checking for missing values per column"
   ]
  },
  {
   "cell_type": "markdown",
   "id": "9f4af7de-c8d8-4efe-8520-643f3cba253b",
   "metadata": {},
   "source": [
    "#### Step 3:Drop non-predictive identifiers"
   ]
  },
  {
   "cell_type": "code",
   "execution_count": 32,
   "id": "83f6e416-ffb2-43ae-a57f-2bd7036efd87",
   "metadata": {},
   "outputs": [],
   "source": [
    "if 'Loan_ID' in loan.columns: # I am checking if Loan_ID exists before dropping it\n",
    "     loan.drop(columns=['Loan_ID'], axis=1, inplace=True) # I am removing unique ID that doesn't help prediction"
   ]
  },
  {
   "cell_type": "code",
   "execution_count": 38,
   "id": "26fb50ee-9abd-4a31-9b62-9f24d324bb62",
   "metadata": {},
   "outputs": [
    {
     "data": {
      "text/html": [
       "<div>\n",
       "<style scoped>\n",
       "    .dataframe tbody tr th:only-of-type {\n",
       "        vertical-align: middle;\n",
       "    }\n",
       "\n",
       "    .dataframe tbody tr th {\n",
       "        vertical-align: top;\n",
       "    }\n",
       "\n",
       "    .dataframe thead th {\n",
       "        text-align: right;\n",
       "    }\n",
       "</style>\n",
       "<table border=\"1\" class=\"dataframe\">\n",
       "  <thead>\n",
       "    <tr style=\"text-align: right;\">\n",
       "      <th></th>\n",
       "      <th>age</th>\n",
       "      <th>gender</th>\n",
       "      <th>occupation</th>\n",
       "      <th>education_level</th>\n",
       "      <th>marital_status</th>\n",
       "      <th>income</th>\n",
       "      <th>credit_score</th>\n",
       "      <th>loan_status</th>\n",
       "    </tr>\n",
       "  </thead>\n",
       "  <tbody>\n",
       "    <tr>\n",
       "      <th>0</th>\n",
       "      <td>32</td>\n",
       "      <td>Male</td>\n",
       "      <td>Engineer</td>\n",
       "      <td>Bachelor's</td>\n",
       "      <td>Married</td>\n",
       "      <td>85000</td>\n",
       "      <td>720</td>\n",
       "      <td>Approved</td>\n",
       "    </tr>\n",
       "    <tr>\n",
       "      <th>1</th>\n",
       "      <td>45</td>\n",
       "      <td>Female</td>\n",
       "      <td>Teacher</td>\n",
       "      <td>Master's</td>\n",
       "      <td>Single</td>\n",
       "      <td>62000</td>\n",
       "      <td>680</td>\n",
       "      <td>Approved</td>\n",
       "    </tr>\n",
       "    <tr>\n",
       "      <th>2</th>\n",
       "      <td>28</td>\n",
       "      <td>Male</td>\n",
       "      <td>Student</td>\n",
       "      <td>High School</td>\n",
       "      <td>Single</td>\n",
       "      <td>25000</td>\n",
       "      <td>590</td>\n",
       "      <td>Denied</td>\n",
       "    </tr>\n",
       "    <tr>\n",
       "      <th>3</th>\n",
       "      <td>51</td>\n",
       "      <td>Female</td>\n",
       "      <td>Manager</td>\n",
       "      <td>Bachelor's</td>\n",
       "      <td>Married</td>\n",
       "      <td>105000</td>\n",
       "      <td>780</td>\n",
       "      <td>Approved</td>\n",
       "    </tr>\n",
       "    <tr>\n",
       "      <th>4</th>\n",
       "      <td>36</td>\n",
       "      <td>Male</td>\n",
       "      <td>Accountant</td>\n",
       "      <td>Bachelor's</td>\n",
       "      <td>Married</td>\n",
       "      <td>75000</td>\n",
       "      <td>710</td>\n",
       "      <td>Approved</td>\n",
       "    </tr>\n",
       "    <tr>\n",
       "      <th>...</th>\n",
       "      <td>...</td>\n",
       "      <td>...</td>\n",
       "      <td>...</td>\n",
       "      <td>...</td>\n",
       "      <td>...</td>\n",
       "      <td>...</td>\n",
       "      <td>...</td>\n",
       "      <td>...</td>\n",
       "    </tr>\n",
       "    <tr>\n",
       "      <th>56</th>\n",
       "      <td>39</td>\n",
       "      <td>Male</td>\n",
       "      <td>Architect</td>\n",
       "      <td>Master's</td>\n",
       "      <td>Married</td>\n",
       "      <td>100000</td>\n",
       "      <td>770</td>\n",
       "      <td>Approved</td>\n",
       "    </tr>\n",
       "    <tr>\n",
       "      <th>57</th>\n",
       "      <td>25</td>\n",
       "      <td>Female</td>\n",
       "      <td>Receptionist</td>\n",
       "      <td>High School</td>\n",
       "      <td>Single</td>\n",
       "      <td>32000</td>\n",
       "      <td>570</td>\n",
       "      <td>Denied</td>\n",
       "    </tr>\n",
       "    <tr>\n",
       "      <th>58</th>\n",
       "      <td>43</td>\n",
       "      <td>Male</td>\n",
       "      <td>Banker</td>\n",
       "      <td>Bachelor's</td>\n",
       "      <td>Married</td>\n",
       "      <td>95000</td>\n",
       "      <td>760</td>\n",
       "      <td>Approved</td>\n",
       "    </tr>\n",
       "    <tr>\n",
       "      <th>59</th>\n",
       "      <td>30</td>\n",
       "      <td>Female</td>\n",
       "      <td>Writer</td>\n",
       "      <td>Master's</td>\n",
       "      <td>Single</td>\n",
       "      <td>55000</td>\n",
       "      <td>650</td>\n",
       "      <td>Approved</td>\n",
       "    </tr>\n",
       "    <tr>\n",
       "      <th>60</th>\n",
       "      <td>38</td>\n",
       "      <td>Male</td>\n",
       "      <td>Chef</td>\n",
       "      <td>Associate's</td>\n",
       "      <td>Married</td>\n",
       "      <td>65000</td>\n",
       "      <td>700</td>\n",
       "      <td>Approved</td>\n",
       "    </tr>\n",
       "  </tbody>\n",
       "</table>\n",
       "<p>61 rows × 8 columns</p>\n",
       "</div>"
      ],
      "text/plain": [
       "    age  gender    occupation education_level marital_status  income  \\\n",
       "0    32    Male      Engineer      Bachelor's        Married   85000   \n",
       "1    45  Female       Teacher        Master's         Single   62000   \n",
       "2    28    Male       Student     High School         Single   25000   \n",
       "3    51  Female       Manager      Bachelor's        Married  105000   \n",
       "4    36    Male    Accountant      Bachelor's        Married   75000   \n",
       "..  ...     ...           ...             ...            ...     ...   \n",
       "56   39    Male     Architect        Master's        Married  100000   \n",
       "57   25  Female  Receptionist     High School         Single   32000   \n",
       "58   43    Male        Banker      Bachelor's        Married   95000   \n",
       "59   30  Female        Writer        Master's         Single   55000   \n",
       "60   38    Male          Chef     Associate's        Married   65000   \n",
       "\n",
       "    credit_score loan_status  \n",
       "0            720    Approved  \n",
       "1            680    Approved  \n",
       "2            590      Denied  \n",
       "3            780    Approved  \n",
       "4            710    Approved  \n",
       "..           ...         ...  \n",
       "56           770    Approved  \n",
       "57           570      Denied  \n",
       "58           760    Approved  \n",
       "59           650    Approved  \n",
       "60           700    Approved  \n",
       "\n",
       "[61 rows x 8 columns]"
      ]
     },
     "execution_count": 38,
     "metadata": {},
     "output_type": "execute_result"
    }
   ],
   "source": [
    "loan"
   ]
  },
  {
   "cell_type": "code",
   "execution_count": 54,
   "id": "7c41b331-a5a7-48b4-a37b-9cefd593aae1",
   "metadata": {},
   "outputs": [
    {
     "name": "stdout",
     "output_type": "stream",
     "text": [
      "Columns in dataset before cleaning: ['age', 'gender', 'occupation', 'education_level', 'marital_status', 'income', 'credit_score', 'loan_status']\n"
     ]
    }
   ],
   "source": [
    "print(\"Columns in dataset before cleaning:\", loan.columns.tolist())  # I am listing all columns"
   ]
  },
  {
   "cell_type": "code",
   "execution_count": 58,
   "id": "0d6fc8b3-9695-406a-b2db-be3524c282b5",
   "metadata": {},
   "outputs": [],
   "source": [
    "loan.columns = loan.columns.str.strip().str.replace(\" \", \"_\")  # I am normalizing column names and Standardize column names (remove spaces, unify format)"
   ]
  },
  {
   "cell_type": "code",
   "execution_count": 34,
   "id": "24a96c93-fd13-44d9-a8c9-dcf8adf82d5b",
   "metadata": {},
   "outputs": [
    {
     "name": "stdout",
     "output_type": "stream",
     "text": [
      " Using target column: loan_status\n"
     ]
    }
   ],
   "source": [
    "target_col = None\n",
    "for col in loan.columns:\n",
    "    if col.lower() == \"loan_status\":  # I am matching regardless of case\n",
    "        target_col = col\n",
    "        break\n",
    "\n",
    "if target_col is None:  # I am failing early if target column missing\n",
    "    raise ValueError(\"Target column 'Loan_Status' not found in the dataset\")\n",
    "\n",
    "print(\" Using target column:\", target_col)"
   ]
  },
  {
   "cell_type": "code",
   "execution_count": 62,
   "id": "a0e6e520-4330-4257-bceb-2db86bc4ee73",
   "metadata": {},
   "outputs": [
    {
     "name": "stdout",
     "output_type": "stream",
     "text": [
      "Missing values per column:\n",
      " age                0\n",
      "gender             0\n",
      "occupation         0\n",
      "education_level    0\n",
      "marital_status     0\n",
      "income             0\n",
      "credit_score       0\n",
      "loan_status        0\n",
      "dtype: int64\n"
     ]
    }
   ],
   "source": [
    "print(\"Missing values per column:\\n\", loan.isnull().sum())  # I am checking for columns that contain null cells"
   ]
  },
  {
   "cell_type": "markdown",
   "id": "1229e7fc-18bc-40fd-b78d-df3840271ab7",
   "metadata": {},
   "source": [
    "#### Step 4: Handle missing values (simple strategy: fill with mode for categorical, median for numeric)"
   ]
  },
  {
   "cell_type": "code",
   "execution_count": 38,
   "id": "a5b4efd2-7cdd-45e2-a064-25de69dd7193",
   "metadata": {},
   "outputs": [
    {
     "name": "stderr",
     "output_type": "stream",
     "text": [
      "C:\\Users\\dell\\AppData\\Local\\Temp\\ipykernel_1796\\868569879.py:5: FutureWarning: A value is trying to be set on a copy of a DataFrame or Series through chained assignment using an inplace method.\n",
      "The behavior will change in pandas 3.0. This inplace method will never work because the intermediate object on which we are setting values always behaves as a copy.\n",
      "\n",
      "For example, when doing 'df[col].method(value, inplace=True)', try using 'df.method({col: value}, inplace=True)' or df[col] = df[col].method(value) instead, to perform the operation inplace on the original object.\n",
      "\n",
      "\n",
      "  loan[col].fillna(loan[col].median(), inplace=True)   # I am filling numeric NaNs with median\n",
      "C:\\Users\\dell\\AppData\\Local\\Temp\\ipykernel_1796\\868569879.py:3: FutureWarning: A value is trying to be set on a copy of a DataFrame or Series through chained assignment using an inplace method.\n",
      "The behavior will change in pandas 3.0. This inplace method will never work because the intermediate object on which we are setting values always behaves as a copy.\n",
      "\n",
      "For example, when doing 'df[col].method(value, inplace=True)', try using 'df.method({col: value}, inplace=True)' or df[col] = df[col].method(value) instead, to perform the operation inplace on the original object.\n",
      "\n",
      "\n",
      "  loan[col].fillna(loan[col].mode()[0], inplace=True)  # I am filling categorical NaNs with most common value\n"
     ]
    }
   ],
   "source": [
    "for col in loan.columns:\n",
    "    if loan[col].dtype == \"object\":\n",
    "        loan[col].fillna(loan[col].mode()[0], inplace=True)  # I am filling categorical NaNs with most common value\n",
    "    else:\n",
    "        loan[col].fillna(loan[col].median(), inplace=True)   # I am filling numeric NaNs with median"
   ]
  },
  {
   "cell_type": "markdown",
   "id": "fff7cd44-54a3-4219-b935-421fe661a1f3",
   "metadata": {},
   "source": [
    "#### Step 5: Encode categorical variables into numeric"
   ]
  },
  {
   "cell_type": "code",
   "execution_count": 40,
   "id": "ea6f9f86-0ee9-4f26-9682-f79fefa6d182",
   "metadata": {},
   "outputs": [],
   "source": [
    "from sklearn.preprocessing import LabelEncoder\n",
    "encoder = LabelEncoder()\n",
    "\n",
    "for col in loan.select_dtypes(include=\"object\").columns:\n",
    "    loan[col] = encoder.fit_transform(loan[col])  # I am converting categories to numbers"
   ]
  },
  {
   "cell_type": "markdown",
   "id": "ff1fc512-06e3-4323-9410-d047402de490",
   "metadata": {},
   "source": [
    "#### Step 6: Define features (X) and target (y)"
   ]
  },
  {
   "cell_type": "code",
   "execution_count": 42,
   "id": "2cbc92a3-09c0-4b89-9d73-2eca5641f38b",
   "metadata": {},
   "outputs": [
    {
     "name": "stdout",
     "output_type": "stream",
     "text": [
      "Shape of features (X): (61, 7)\n",
      "Shape of target (y): (61,)\n"
     ]
    }
   ],
   "source": [
    "X = loan.drop(columns=[target_col], axis=1)  # I am using all other columns as features\n",
    "y = loan[target_col]  # I am using Loan_Status as label\n",
    "\n",
    "print(\"Shape of features (X):\", X.shape)\n",
    "print(\"Shape of target (y):\", y.shape)"
   ]
  },
  {
   "cell_type": "markdown",
   "id": "a073b819-6aae-493b-b501-0011ec8d1718",
   "metadata": {},
   "source": [
    "##### Step 7: Split into training and testing sets"
   ]
  },
  {
   "cell_type": "code",
   "execution_count": 44,
   "id": "e2117e4a-b184-44fe-8ddb-119ab2caeaee",
   "metadata": {},
   "outputs": [
    {
     "name": "stdout",
     "output_type": "stream",
     "text": [
      "Train set size: (48, 7)\n",
      "Test set size: (13, 7)\n"
     ]
    }
   ],
   "source": [
    "from sklearn.model_selection import train_test_split\n",
    "\n",
    "# I am splitting into training (80%) and testing (20%) sets\n",
    "X_train, X_test, y_train, y_test = train_test_split(\n",
    "    X, y, test_size=0.2, random_state=42, stratify=y\n",
    ")\n",
    "\n",
    "print(\"Train set size:\", X_train.shape)\n",
    "print(\"Test set size:\", X_test.shape)"
   ]
  },
  {
   "cell_type": "markdown",
   "id": "76a691be-b095-4cd8-a269-2d107161d23f",
   "metadata": {},
   "source": [
    "##### Step 8: Train logistic regression model"
   ]
  },
  {
   "cell_type": "code",
   "execution_count": 46,
   "id": "37b40393-960d-47ac-8eaa-cc6bb15f0d13",
   "metadata": {},
   "outputs": [],
   "source": [
    "from sklearn.linear_model import LogisticRegression # I am importing Logistic Regression model"
   ]
  },
  {
   "cell_type": "code",
   "execution_count": 48,
   "id": "cd4188fb-cabf-43ea-ae46-d3ea8d866c93",
   "metadata": {},
   "outputs": [],
   "source": [
    "# I am creating a logistic regression model\n",
    "lr = LogisticRegression(max_iter=1000, random_state=42)"
   ]
  },
  {
   "cell_type": "code",
   "execution_count": 50,
   "id": "ae785b57-6f1f-49df-928d-b7a5615db9b2",
   "metadata": {},
   "outputs": [
    {
     "data": {
      "text/html": [
       "<style>#sk-container-id-1 {\n",
       "  /* Definition of color scheme common for light and dark mode */\n",
       "  --sklearn-color-text: black;\n",
       "  --sklearn-color-line: gray;\n",
       "  /* Definition of color scheme for unfitted estimators */\n",
       "  --sklearn-color-unfitted-level-0: #fff5e6;\n",
       "  --sklearn-color-unfitted-level-1: #f6e4d2;\n",
       "  --sklearn-color-unfitted-level-2: #ffe0b3;\n",
       "  --sklearn-color-unfitted-level-3: chocolate;\n",
       "  /* Definition of color scheme for fitted estimators */\n",
       "  --sklearn-color-fitted-level-0: #f0f8ff;\n",
       "  --sklearn-color-fitted-level-1: #d4ebff;\n",
       "  --sklearn-color-fitted-level-2: #b3dbfd;\n",
       "  --sklearn-color-fitted-level-3: cornflowerblue;\n",
       "\n",
       "  /* Specific color for light theme */\n",
       "  --sklearn-color-text-on-default-background: var(--sg-text-color, var(--theme-code-foreground, var(--jp-content-font-color1, black)));\n",
       "  --sklearn-color-background: var(--sg-background-color, var(--theme-background, var(--jp-layout-color0, white)));\n",
       "  --sklearn-color-border-box: var(--sg-text-color, var(--theme-code-foreground, var(--jp-content-font-color1, black)));\n",
       "  --sklearn-color-icon: #696969;\n",
       "\n",
       "  @media (prefers-color-scheme: dark) {\n",
       "    /* Redefinition of color scheme for dark theme */\n",
       "    --sklearn-color-text-on-default-background: var(--sg-text-color, var(--theme-code-foreground, var(--jp-content-font-color1, white)));\n",
       "    --sklearn-color-background: var(--sg-background-color, var(--theme-background, var(--jp-layout-color0, #111)));\n",
       "    --sklearn-color-border-box: var(--sg-text-color, var(--theme-code-foreground, var(--jp-content-font-color1, white)));\n",
       "    --sklearn-color-icon: #878787;\n",
       "  }\n",
       "}\n",
       "\n",
       "#sk-container-id-1 {\n",
       "  color: var(--sklearn-color-text);\n",
       "}\n",
       "\n",
       "#sk-container-id-1 pre {\n",
       "  padding: 0;\n",
       "}\n",
       "\n",
       "#sk-container-id-1 input.sk-hidden--visually {\n",
       "  border: 0;\n",
       "  clip: rect(1px 1px 1px 1px);\n",
       "  clip: rect(1px, 1px, 1px, 1px);\n",
       "  height: 1px;\n",
       "  margin: -1px;\n",
       "  overflow: hidden;\n",
       "  padding: 0;\n",
       "  position: absolute;\n",
       "  width: 1px;\n",
       "}\n",
       "\n",
       "#sk-container-id-1 div.sk-dashed-wrapped {\n",
       "  border: 1px dashed var(--sklearn-color-line);\n",
       "  margin: 0 0.4em 0.5em 0.4em;\n",
       "  box-sizing: border-box;\n",
       "  padding-bottom: 0.4em;\n",
       "  background-color: var(--sklearn-color-background);\n",
       "}\n",
       "\n",
       "#sk-container-id-1 div.sk-container {\n",
       "  /* jupyter's `normalize.less` sets `[hidden] { display: none; }`\n",
       "     but bootstrap.min.css set `[hidden] { display: none !important; }`\n",
       "     so we also need the `!important` here to be able to override the\n",
       "     default hidden behavior on the sphinx rendered scikit-learn.org.\n",
       "     See: https://github.com/scikit-learn/scikit-learn/issues/21755 */\n",
       "  display: inline-block !important;\n",
       "  position: relative;\n",
       "}\n",
       "\n",
       "#sk-container-id-1 div.sk-text-repr-fallback {\n",
       "  display: none;\n",
       "}\n",
       "\n",
       "div.sk-parallel-item,\n",
       "div.sk-serial,\n",
       "div.sk-item {\n",
       "  /* draw centered vertical line to link estimators */\n",
       "  background-image: linear-gradient(var(--sklearn-color-text-on-default-background), var(--sklearn-color-text-on-default-background));\n",
       "  background-size: 2px 100%;\n",
       "  background-repeat: no-repeat;\n",
       "  background-position: center center;\n",
       "}\n",
       "\n",
       "/* Parallel-specific style estimator block */\n",
       "\n",
       "#sk-container-id-1 div.sk-parallel-item::after {\n",
       "  content: \"\";\n",
       "  width: 100%;\n",
       "  border-bottom: 2px solid var(--sklearn-color-text-on-default-background);\n",
       "  flex-grow: 1;\n",
       "}\n",
       "\n",
       "#sk-container-id-1 div.sk-parallel {\n",
       "  display: flex;\n",
       "  align-items: stretch;\n",
       "  justify-content: center;\n",
       "  background-color: var(--sklearn-color-background);\n",
       "  position: relative;\n",
       "}\n",
       "\n",
       "#sk-container-id-1 div.sk-parallel-item {\n",
       "  display: flex;\n",
       "  flex-direction: column;\n",
       "}\n",
       "\n",
       "#sk-container-id-1 div.sk-parallel-item:first-child::after {\n",
       "  align-self: flex-end;\n",
       "  width: 50%;\n",
       "}\n",
       "\n",
       "#sk-container-id-1 div.sk-parallel-item:last-child::after {\n",
       "  align-self: flex-start;\n",
       "  width: 50%;\n",
       "}\n",
       "\n",
       "#sk-container-id-1 div.sk-parallel-item:only-child::after {\n",
       "  width: 0;\n",
       "}\n",
       "\n",
       "/* Serial-specific style estimator block */\n",
       "\n",
       "#sk-container-id-1 div.sk-serial {\n",
       "  display: flex;\n",
       "  flex-direction: column;\n",
       "  align-items: center;\n",
       "  background-color: var(--sklearn-color-background);\n",
       "  padding-right: 1em;\n",
       "  padding-left: 1em;\n",
       "}\n",
       "\n",
       "\n",
       "/* Toggleable style: style used for estimator/Pipeline/ColumnTransformer box that is\n",
       "clickable and can be expanded/collapsed.\n",
       "- Pipeline and ColumnTransformer use this feature and define the default style\n",
       "- Estimators will overwrite some part of the style using the `sk-estimator` class\n",
       "*/\n",
       "\n",
       "/* Pipeline and ColumnTransformer style (default) */\n",
       "\n",
       "#sk-container-id-1 div.sk-toggleable {\n",
       "  /* Default theme specific background. It is overwritten whether we have a\n",
       "  specific estimator or a Pipeline/ColumnTransformer */\n",
       "  background-color: var(--sklearn-color-background);\n",
       "}\n",
       "\n",
       "/* Toggleable label */\n",
       "#sk-container-id-1 label.sk-toggleable__label {\n",
       "  cursor: pointer;\n",
       "  display: block;\n",
       "  width: 100%;\n",
       "  margin-bottom: 0;\n",
       "  padding: 0.5em;\n",
       "  box-sizing: border-box;\n",
       "  text-align: center;\n",
       "}\n",
       "\n",
       "#sk-container-id-1 label.sk-toggleable__label-arrow:before {\n",
       "  /* Arrow on the left of the label */\n",
       "  content: \"▸\";\n",
       "  float: left;\n",
       "  margin-right: 0.25em;\n",
       "  color: var(--sklearn-color-icon);\n",
       "}\n",
       "\n",
       "#sk-container-id-1 label.sk-toggleable__label-arrow:hover:before {\n",
       "  color: var(--sklearn-color-text);\n",
       "}\n",
       "\n",
       "/* Toggleable content - dropdown */\n",
       "\n",
       "#sk-container-id-1 div.sk-toggleable__content {\n",
       "  max-height: 0;\n",
       "  max-width: 0;\n",
       "  overflow: hidden;\n",
       "  text-align: left;\n",
       "  /* unfitted */\n",
       "  background-color: var(--sklearn-color-unfitted-level-0);\n",
       "}\n",
       "\n",
       "#sk-container-id-1 div.sk-toggleable__content.fitted {\n",
       "  /* fitted */\n",
       "  background-color: var(--sklearn-color-fitted-level-0);\n",
       "}\n",
       "\n",
       "#sk-container-id-1 div.sk-toggleable__content pre {\n",
       "  margin: 0.2em;\n",
       "  border-radius: 0.25em;\n",
       "  color: var(--sklearn-color-text);\n",
       "  /* unfitted */\n",
       "  background-color: var(--sklearn-color-unfitted-level-0);\n",
       "}\n",
       "\n",
       "#sk-container-id-1 div.sk-toggleable__content.fitted pre {\n",
       "  /* unfitted */\n",
       "  background-color: var(--sklearn-color-fitted-level-0);\n",
       "}\n",
       "\n",
       "#sk-container-id-1 input.sk-toggleable__control:checked~div.sk-toggleable__content {\n",
       "  /* Expand drop-down */\n",
       "  max-height: 200px;\n",
       "  max-width: 100%;\n",
       "  overflow: auto;\n",
       "}\n",
       "\n",
       "#sk-container-id-1 input.sk-toggleable__control:checked~label.sk-toggleable__label-arrow:before {\n",
       "  content: \"▾\";\n",
       "}\n",
       "\n",
       "/* Pipeline/ColumnTransformer-specific style */\n",
       "\n",
       "#sk-container-id-1 div.sk-label input.sk-toggleable__control:checked~label.sk-toggleable__label {\n",
       "  color: var(--sklearn-color-text);\n",
       "  background-color: var(--sklearn-color-unfitted-level-2);\n",
       "}\n",
       "\n",
       "#sk-container-id-1 div.sk-label.fitted input.sk-toggleable__control:checked~label.sk-toggleable__label {\n",
       "  background-color: var(--sklearn-color-fitted-level-2);\n",
       "}\n",
       "\n",
       "/* Estimator-specific style */\n",
       "\n",
       "/* Colorize estimator box */\n",
       "#sk-container-id-1 div.sk-estimator input.sk-toggleable__control:checked~label.sk-toggleable__label {\n",
       "  /* unfitted */\n",
       "  background-color: var(--sklearn-color-unfitted-level-2);\n",
       "}\n",
       "\n",
       "#sk-container-id-1 div.sk-estimator.fitted input.sk-toggleable__control:checked~label.sk-toggleable__label {\n",
       "  /* fitted */\n",
       "  background-color: var(--sklearn-color-fitted-level-2);\n",
       "}\n",
       "\n",
       "#sk-container-id-1 div.sk-label label.sk-toggleable__label,\n",
       "#sk-container-id-1 div.sk-label label {\n",
       "  /* The background is the default theme color */\n",
       "  color: var(--sklearn-color-text-on-default-background);\n",
       "}\n",
       "\n",
       "/* On hover, darken the color of the background */\n",
       "#sk-container-id-1 div.sk-label:hover label.sk-toggleable__label {\n",
       "  color: var(--sklearn-color-text);\n",
       "  background-color: var(--sklearn-color-unfitted-level-2);\n",
       "}\n",
       "\n",
       "/* Label box, darken color on hover, fitted */\n",
       "#sk-container-id-1 div.sk-label.fitted:hover label.sk-toggleable__label.fitted {\n",
       "  color: var(--sklearn-color-text);\n",
       "  background-color: var(--sklearn-color-fitted-level-2);\n",
       "}\n",
       "\n",
       "/* Estimator label */\n",
       "\n",
       "#sk-container-id-1 div.sk-label label {\n",
       "  font-family: monospace;\n",
       "  font-weight: bold;\n",
       "  display: inline-block;\n",
       "  line-height: 1.2em;\n",
       "}\n",
       "\n",
       "#sk-container-id-1 div.sk-label-container {\n",
       "  text-align: center;\n",
       "}\n",
       "\n",
       "/* Estimator-specific */\n",
       "#sk-container-id-1 div.sk-estimator {\n",
       "  font-family: monospace;\n",
       "  border: 1px dotted var(--sklearn-color-border-box);\n",
       "  border-radius: 0.25em;\n",
       "  box-sizing: border-box;\n",
       "  margin-bottom: 0.5em;\n",
       "  /* unfitted */\n",
       "  background-color: var(--sklearn-color-unfitted-level-0);\n",
       "}\n",
       "\n",
       "#sk-container-id-1 div.sk-estimator.fitted {\n",
       "  /* fitted */\n",
       "  background-color: var(--sklearn-color-fitted-level-0);\n",
       "}\n",
       "\n",
       "/* on hover */\n",
       "#sk-container-id-1 div.sk-estimator:hover {\n",
       "  /* unfitted */\n",
       "  background-color: var(--sklearn-color-unfitted-level-2);\n",
       "}\n",
       "\n",
       "#sk-container-id-1 div.sk-estimator.fitted:hover {\n",
       "  /* fitted */\n",
       "  background-color: var(--sklearn-color-fitted-level-2);\n",
       "}\n",
       "\n",
       "/* Specification for estimator info (e.g. \"i\" and \"?\") */\n",
       "\n",
       "/* Common style for \"i\" and \"?\" */\n",
       "\n",
       ".sk-estimator-doc-link,\n",
       "a:link.sk-estimator-doc-link,\n",
       "a:visited.sk-estimator-doc-link {\n",
       "  float: right;\n",
       "  font-size: smaller;\n",
       "  line-height: 1em;\n",
       "  font-family: monospace;\n",
       "  background-color: var(--sklearn-color-background);\n",
       "  border-radius: 1em;\n",
       "  height: 1em;\n",
       "  width: 1em;\n",
       "  text-decoration: none !important;\n",
       "  margin-left: 1ex;\n",
       "  /* unfitted */\n",
       "  border: var(--sklearn-color-unfitted-level-1) 1pt solid;\n",
       "  color: var(--sklearn-color-unfitted-level-1);\n",
       "}\n",
       "\n",
       ".sk-estimator-doc-link.fitted,\n",
       "a:link.sk-estimator-doc-link.fitted,\n",
       "a:visited.sk-estimator-doc-link.fitted {\n",
       "  /* fitted */\n",
       "  border: var(--sklearn-color-fitted-level-1) 1pt solid;\n",
       "  color: var(--sklearn-color-fitted-level-1);\n",
       "}\n",
       "\n",
       "/* On hover */\n",
       "div.sk-estimator:hover .sk-estimator-doc-link:hover,\n",
       ".sk-estimator-doc-link:hover,\n",
       "div.sk-label-container:hover .sk-estimator-doc-link:hover,\n",
       ".sk-estimator-doc-link:hover {\n",
       "  /* unfitted */\n",
       "  background-color: var(--sklearn-color-unfitted-level-3);\n",
       "  color: var(--sklearn-color-background);\n",
       "  text-decoration: none;\n",
       "}\n",
       "\n",
       "div.sk-estimator.fitted:hover .sk-estimator-doc-link.fitted:hover,\n",
       ".sk-estimator-doc-link.fitted:hover,\n",
       "div.sk-label-container:hover .sk-estimator-doc-link.fitted:hover,\n",
       ".sk-estimator-doc-link.fitted:hover {\n",
       "  /* fitted */\n",
       "  background-color: var(--sklearn-color-fitted-level-3);\n",
       "  color: var(--sklearn-color-background);\n",
       "  text-decoration: none;\n",
       "}\n",
       "\n",
       "/* Span, style for the box shown on hovering the info icon */\n",
       ".sk-estimator-doc-link span {\n",
       "  display: none;\n",
       "  z-index: 9999;\n",
       "  position: relative;\n",
       "  font-weight: normal;\n",
       "  right: .2ex;\n",
       "  padding: .5ex;\n",
       "  margin: .5ex;\n",
       "  width: min-content;\n",
       "  min-width: 20ex;\n",
       "  max-width: 50ex;\n",
       "  color: var(--sklearn-color-text);\n",
       "  box-shadow: 2pt 2pt 4pt #999;\n",
       "  /* unfitted */\n",
       "  background: var(--sklearn-color-unfitted-level-0);\n",
       "  border: .5pt solid var(--sklearn-color-unfitted-level-3);\n",
       "}\n",
       "\n",
       ".sk-estimator-doc-link.fitted span {\n",
       "  /* fitted */\n",
       "  background: var(--sklearn-color-fitted-level-0);\n",
       "  border: var(--sklearn-color-fitted-level-3);\n",
       "}\n",
       "\n",
       ".sk-estimator-doc-link:hover span {\n",
       "  display: block;\n",
       "}\n",
       "\n",
       "/* \"?\"-specific style due to the `<a>` HTML tag */\n",
       "\n",
       "#sk-container-id-1 a.estimator_doc_link {\n",
       "  float: right;\n",
       "  font-size: 1rem;\n",
       "  line-height: 1em;\n",
       "  font-family: monospace;\n",
       "  background-color: var(--sklearn-color-background);\n",
       "  border-radius: 1rem;\n",
       "  height: 1rem;\n",
       "  width: 1rem;\n",
       "  text-decoration: none;\n",
       "  /* unfitted */\n",
       "  color: var(--sklearn-color-unfitted-level-1);\n",
       "  border: var(--sklearn-color-unfitted-level-1) 1pt solid;\n",
       "}\n",
       "\n",
       "#sk-container-id-1 a.estimator_doc_link.fitted {\n",
       "  /* fitted */\n",
       "  border: var(--sklearn-color-fitted-level-1) 1pt solid;\n",
       "  color: var(--sklearn-color-fitted-level-1);\n",
       "}\n",
       "\n",
       "/* On hover */\n",
       "#sk-container-id-1 a.estimator_doc_link:hover {\n",
       "  /* unfitted */\n",
       "  background-color: var(--sklearn-color-unfitted-level-3);\n",
       "  color: var(--sklearn-color-background);\n",
       "  text-decoration: none;\n",
       "}\n",
       "\n",
       "#sk-container-id-1 a.estimator_doc_link.fitted:hover {\n",
       "  /* fitted */\n",
       "  background-color: var(--sklearn-color-fitted-level-3);\n",
       "}\n",
       "</style><div id=\"sk-container-id-1\" class=\"sk-top-container\"><div class=\"sk-text-repr-fallback\"><pre>LogisticRegression(max_iter=1000, random_state=42)</pre><b>In a Jupyter environment, please rerun this cell to show the HTML representation or trust the notebook. <br />On GitHub, the HTML representation is unable to render, please try loading this page with nbviewer.org.</b></div><div class=\"sk-container\" hidden><div class=\"sk-item\"><div class=\"sk-estimator fitted sk-toggleable\"><input class=\"sk-toggleable__control sk-hidden--visually\" id=\"sk-estimator-id-1\" type=\"checkbox\" checked><label for=\"sk-estimator-id-1\" class=\"sk-toggleable__label fitted sk-toggleable__label-arrow fitted\">&nbsp;&nbsp;LogisticRegression<a class=\"sk-estimator-doc-link fitted\" rel=\"noreferrer\" target=\"_blank\" href=\"https://scikit-learn.org/1.4/modules/generated/sklearn.linear_model.LogisticRegression.html\">?<span>Documentation for LogisticRegression</span></a><span class=\"sk-estimator-doc-link fitted\">i<span>Fitted</span></span></label><div class=\"sk-toggleable__content fitted\"><pre>LogisticRegression(max_iter=1000, random_state=42)</pre></div> </div></div></div></div>"
      ],
      "text/plain": [
       "LogisticRegression(max_iter=1000, random_state=42)"
      ]
     },
     "execution_count": 50,
     "metadata": {},
     "output_type": "execute_result"
    }
   ],
   "source": [
    "# I am fitting the model to training data\n",
    "lr.fit(X_train, y_train)"
   ]
  },
  {
   "cell_type": "markdown",
   "id": "21bacd6e-161b-4575-b170-96628b7d0c39",
   "metadata": {},
   "source": [
    "##### Step 9: Make predictions on the test set"
   ]
  },
  {
   "cell_type": "code",
   "execution_count": 52,
   "id": "c90fef0d-2951-4f45-944d-4a48635b37f6",
   "metadata": {},
   "outputs": [],
   "source": [
    "# I am predicting loan approval for test data\n",
    "y_pred = lr.predict(X_test)"
   ]
  },
  {
   "cell_type": "code",
   "execution_count": 54,
   "id": "164a09b7-fc48-49e0-987b-4d40d674ab11",
   "metadata": {},
   "outputs": [],
   "source": [
    "# I am getting predicted probabilities (useful later for ROC, threshold tuning)\n",
    "y_pred_proba = lr.predict_proba(X_test)[:, 1]"
   ]
  },
  {
   "cell_type": "code",
   "execution_count": 56,
   "id": "90ecbfdd-dace-45a1-a97e-f5587f58b27f",
   "metadata": {},
   "outputs": [],
   "source": [
    "# I am getting predicted probabilities (useful later for ROC, threshold tuning)\n",
    "y_pred_proba = lr.predict_proba(X_test)[:, 1]"
   ]
  },
  {
   "cell_type": "markdown",
   "id": "e730646e-d22d-42c5-8012-0b93b4ecd087",
   "metadata": {},
   "source": [
    "##### Step 10: Evaluate results"
   ]
  },
  {
   "cell_type": "code",
   "execution_count": 58,
   "id": "1007e5d4-bf38-4f30-97e0-d93684a09f64",
   "metadata": {},
   "outputs": [],
   "source": [
    "# I am importing metrics to check how good the model is\n",
    "from sklearn.metrics import accuracy_score, confusion_matrix, classification_report"
   ]
  },
  {
   "cell_type": "markdown",
   "id": "53bdd59d-dac9-44e0-8e63-6358ae4ae88b",
   "metadata": {},
   "source": [
    "##### Getting the Accuracy"
   ]
  },
  {
   "cell_type": "code",
   "execution_count": 60,
   "id": "51a51303-0a2a-49d6-ab6b-9a3e9ba01796",
   "metadata": {},
   "outputs": [
    {
     "name": "stdout",
     "output_type": "stream",
     "text": [
      "\n",
      "Accuracy: 1.0\n"
     ]
    }
   ],
   "source": [
    "# Accuracy\n",
    "accuracy = accuracy_score(y_test, y_pred)  # I am measuring overall correctness\n",
    "print(\"\\nAccuracy:\", accuracy)"
   ]
  },
  {
   "cell_type": "markdown",
   "id": "e0f0a192-fbc7-4bb9-b10c-61243a575d01",
   "metadata": {},
   "source": [
    "##### Getting the Confusion Matrix"
   ]
  },
  {
   "cell_type": "code",
   "execution_count": 98,
   "id": "df120051-5bba-4a81-9d34-38cdd5b8428c",
   "metadata": {},
   "outputs": [
    {
     "name": "stdout",
     "output_type": "stream",
     "text": [
      "\n",
      "Confusion Matrix:\n",
      " [[10  0]\n",
      " [ 0  3]]\n"
     ]
    }
   ],
   "source": [
    "# Confusion Matrix\n",
    "cm = confusion_matrix(y_test, y_pred)\n",
    "print(\"\\nConfusion Matrix:\\n\", cm)"
   ]
  },
  {
   "cell_type": "markdown",
   "id": "fc098b36-029d-4e1e-8984-37e240e388c8",
   "metadata": {},
   "source": [
    "##### Getting the Classification Report"
   ]
  },
  {
   "cell_type": "code",
   "execution_count": 100,
   "id": "3ada29e3-209c-44b1-9b29-f4b7ea6dcd2c",
   "metadata": {},
   "outputs": [
    {
     "name": "stdout",
     "output_type": "stream",
     "text": [
      "\n",
      "Classification Report:\n",
      "               precision    recall  f1-score   support\n",
      "\n",
      "           0       1.00      1.00      1.00        10\n",
      "           1       1.00      1.00      1.00         3\n",
      "\n",
      "    accuracy                           1.00        13\n",
      "   macro avg       1.00      1.00      1.00        13\n",
      "weighted avg       1.00      1.00      1.00        13\n",
      "\n"
     ]
    }
   ],
   "source": [
    "# Classification Report\n",
    "cr = classification_report(y_test, y_pred)\n",
    "print(\"\\nClassification Report:\\n\", cr)"
   ]
  },
  {
   "cell_type": "code",
   "execution_count": 18,
   "id": "137bd3e5-1d2c-4223-ad37-71c45ef340cb",
   "metadata": {},
   "outputs": [],
   "source": [
    "##### Getting the Cross Validation Report"
   ]
  },
  {
   "cell_type": "code",
   "execution_count": 102,
   "id": "3375f701-0a9d-45f4-bf63-27f13a5397ae",
   "metadata": {},
   "outputs": [],
   "source": [
    "# Cross Validation (5-fold)\n",
    "from sklearn.model_selection import cross_val_score"
   ]
  },
  {
   "cell_type": "code",
   "execution_count": 104,
   "id": "4ff4f4f3-9003-4d5c-9375-3dfc670dd68e",
   "metadata": {},
   "outputs": [
    {
     "name": "stdout",
     "output_type": "stream",
     "text": [
      "\n",
      "Cross-Validation Scores: [1.         0.91666667 0.91666667 1.         1.        ]\n",
      "Mean CV Accuracy: 0.9666666666666666\n"
     ]
    }
   ],
   "source": [
    "# I am validating the model across 5 folds to check generalization\n",
    "cv_scores = cross_val_score(lr, X, y, cv=5, scoring='accuracy')\n",
    "print(\"\\nCross-Validation Scores:\", cv_scores)\n",
    "print(\"Mean CV Accuracy:\", np.mean(cv_scores))"
   ]
  },
  {
   "cell_type": "markdown",
   "id": "2f38274f-1e98-49bf-a7cc-78e584c334de",
   "metadata": {},
   "source": [
    "##### Model interpretation"
   ]
  },
  {
   "cell_type": "raw",
   "id": "9047fa1d-49b5-48d7-9f48-e8d902f935f4",
   "metadata": {},
   "source": [
    "For Accuracy\n",
    "The Accuracy is 1.0, which means (100%)\n",
    "\n",
    "This means\n",
    "\n",
    "1. My model correctly predicted 100% of cases in the test set.\n",
    "\n",
    "2. In this case, out of 13 people in the test set, it got all 13 right and 0 wrong.\n",
    "\n",
    "4. A 100% accuracy is far better than random guessing (50%) and suggests the model has perfectly captured the patterns in this dataset.However, it may also indicate the model is overfitting or that the dataset is too small/simple."
   ]
  },
  {
   "cell_type": "raw",
   "id": "6bf03955-e763-412b-8d42-cedd9f11280d",
   "metadata": {},
   "source": [
    "for confusion matrix \n",
    "Confusion Matrix:\n",
    " [[10  0]\n",
    " [ 0  3]]\n",
    "This means:\n",
    "\n",
    "1. Top-left (10) = True Negatives\n",
    " 10 applicants who actually did NOT get loan approval were correctly predicted as No.\n",
    "\n",
    "2. Top-right (0) = False Positives\n",
    " 0 applicants who did NOT get loan approval were incorrectly predicted as Yes.\n",
    " So the model never wrongly approved an ineligible applicant.\n",
    "\n",
    "3.Bottom-left (0) = False Negatives\n",
    " 0 applicants who actually got loan approval were incorrectly predicted as No.\n",
    " So the model never wrongly rejected an eligible applicant.\n",
    "\n",
    "4.Bottom-right (3) = True Positives\n",
    " 3 applicants who actually got loan approval were correctly predicted as Yes.\n",
    "\n",
    "So,\n",
    "The model achieved perfect classification:\n",
    "1. All 13 applicants (10 “No” + 3 “Yes”) were correctly predicted.\n",
    "2.No false approvals, no false rejections.\n",
    "3.This aligns with the accuracy = 1.0 (100%) you mentioned.\n",
    "\n",
    "From a banking perspective:\n",
    "\n",
    "The model is flawless on this test set: it only approves people who should be approved and rejects only those who should be rejected.\n",
    "\n",
    "However, such perfect results can sometimes mean the dataset is too small or too easy, or the model may be overfitting."
   ]
  },
  {
   "cell_type": "raw",
   "id": "8cb7b85e-f4cf-4c1d-bfa9-2dbaa798ae99",
   "metadata": {},
   "source": [
    "For Precision\n",
    "\n",
    "Precision for class 0 (Not Approved) = 1.00 (100%)\n",
    "Precision for class 1 (Approved) = 1.00 (100%)\n",
    "\n",
    "This means:\n",
    "\n",
    "1.When the model predicted “Not Approved”, it was correct 100% of the time (10/10).\n",
    "\n",
    "2.When the model predicted “Approved”, it was also correct 100% of the time (3/3).\n",
    "\n",
    "In other words, there are no false alarms: the model never wrongly approved or rejected an applicant.\n",
    "\n",
    "For Recall\n",
    "\n",
    "Recall for class 0 (Not Approved) = 1.00 (100%)\n",
    "Recall for class 1 (Approved) = 1.00 (100%)\n",
    "\n",
    "This means:\n",
    "\n",
    "1.Out of all applicants who truly were “Not Approved”, the model identified 100% of them correctly (10/10).\n",
    "\n",
    "2.Out of all applicants who truly were “Approved”, the model identified 100% of them correctly (3/3).\n",
    "\n",
    "So the model never missed a positive or negative case — no eligible applicant was rejected, and no ineligible applicant was approved.\n",
    "\n",
    "For F1-Score\n",
    "\n",
    "F1-Score for class 0 = 1.00\n",
    "F1-Score for class 1 = 1.00\n",
    "\n",
    "This means:\n",
    "\n",
    "1.The F1-score is the balance between precision and recall.\n",
    "\n",
    "Since both precision and recall are perfect (100%), the F1-score is also perfect (100%).\n",
    "\n",
    "This shows the model is extremely reliable in both avoiding false alarms and catching all true cases.\n",
    "\n",
    "So,\n",
    "Accuracy = 1.00 (100%) → Model got every case correct (13/13).\n",
    "Macro Avg = 1.00 → Both classes (Approved & Not Approved) are equally well-predicted.\n",
    "Weighted Avg = 1.00 → When accounting for imbalance (10 vs 3 cases), performance is still perfect."
   ]
  },
  {
   "cell_type": "raw",
   "id": "f26f313e-38d8-48f6-a8fe-5419e6f6f61b",
   "metadata": {},
   "source": [
    "Cross-Validation Scores\n",
    "\n",
    "[1.0, 0.9167, 0.9167, 1.0, 1.0]\n",
    "\n",
    "This means:\n",
    "\n",
    "1. In fold 1, the model achieved 100% accuracy.\n",
    "\n",
    "2. In fold 2, the model achieved about 91.7% accuracy.\n",
    "\n",
    "3. In fold 3, the model achieved about 91.7% accuracy.\n",
    "\n",
    "4. In fold 4, the model again achieved 100% accuracy.\n",
    "\n",
    "5. In fold 5, the model also achieved 100% accuracy."
   ]
  },
  {
   "cell_type": "raw",
   "id": "7fae8847-aad3-4dec-b606-0c829d733b5b",
   "metadata": {},
   "source": [
    "Mean CV Accuracy\n",
    "\n",
    "The average accuracy across all folds is 0.967 (~97%).\n",
    "\n",
    "This means:\n",
    "\n",
    "1.On average, the model correctly predicts 97% of applicants across different train-test splits.\n",
    "\n",
    "2.The performance is consistently very high, but not always perfect — in some folds it dropped to ~92%.\n",
    "\n",
    "This shows the model is generalizing well and not just memorizing the training set."
   ]
  },
  {
   "cell_type": "markdown",
   "id": "57ac3b59-848e-49df-a811-62c0d81639a3",
   "metadata": {},
   "source": [
    "#### Conclusion"
   ]
  },
  {
   "cell_type": "raw",
   "id": "fd37c807-0b54-42a4-a048-69931b149e76",
   "metadata": {},
   "source": [
    "The model is extremely accurate and robust for predicting loan approval.\n",
    "\n",
    "It consistently scores between 92%–100%, with an average of 97%, which is excellent.\n",
    "\n",
    "Unlike a single test split (where accuracy was 100%), cross-validation confirms that the model may sometimes make a few mistakes, but overall it is highly reliable."
   ]
  },
  {
   "cell_type": "raw",
   "id": "ef3e09c3-b4de-4d46-9c04-76da0fb5638d",
   "metadata": {},
   "source": [
    "Logistic regression not only makes predictions but also gives us coefficients (weights) for each feature, showing how much they influence the prediction In this case, (loan approval = 1).\n",
    "Step 1: Extract coefficients"
   ]
  },
  {
   "cell_type": "code",
   "execution_count": 62,
   "id": "3fdc491e-055f-4bde-bd33-7305112a7fb4",
   "metadata": {},
   "outputs": [
    {
     "name": "stdout",
     "output_type": "stream",
     "text": [
      "           Feature  Coefficient\n",
      "6     credit_score     0.411611\n",
      "4   marital_status     0.001354\n",
      "5           income    -0.005035\n",
      "1           gender    -0.022865\n",
      "3  education_level    -0.044755\n",
      "0              age    -0.055862\n",
      "2       occupation    -0.061789\n"
     ]
    }
   ],
   "source": [
    "# After training your model (lr), we can check feature importance like this:\n",
    "# Geting the feature names and coefficients\n",
    "feature_importance = pd.DataFrame({\n",
    "    'Feature': X.columns,\n",
    "    'Coefficient': lr.coef_[0]\n",
    "}).sort_values(by='Coefficient', ascending=False)\n",
    "\n",
    "print(feature_importance)"
   ]
  },
  {
   "cell_type": "raw",
   "id": "d32dfb38-7486-4ce3-bf23-bf471ab9d0a5",
   "metadata": {},
   "source": [
    "#### Interpreting the coefficients\n",
    "\n",
    "Positive coefficient mean there is an increases in the chance of loan approval.\n",
    "In this case: if Credit_History has a large positive value, applicants with a good credit history are far more likely to get approved.\n",
    "\n",
    "Negative coefficient mean there is a decrease in the chance of loan approval.\n",
    "In this: if LoanAmount has a negative value, higher loan amounts might reduce approval chances."
   ]
  },
  {
   "cell_type": "raw",
   "id": "e34e3595-221d-4f25-950a-a1f5b50613ad",
   "metadata": {},
   "source": [
    "Credit_History : usually the strongest positive driver (banks heavily rely on it).\n",
    "\n",
    "ApplicantIncome / CoapplicantIncome : usually positive, meaning higher income → more likely approved.\n",
    "\n",
    "LoanAmount : often negative, very large requested amounts → lower approval chance.\n",
    "\n",
    "Education, Gender, Property_Area : smaller effects, but may slightly shift approval odds depending on encoding."
   ]
  },
  {
   "cell_type": "raw",
   "id": "0646003b-71a8-44ff-a6ab-7058df93f8a8",
   "metadata": {},
   "source": [
    "This matter because it aligns with real-world loan policies: applicants with good credit history and stable income are the safest bets for banks."
   ]
  },
  {
   "cell_type": "markdown",
   "id": "07d72319-a9d7-4aab-a464-a891903bcdda",
   "metadata": {},
   "source": [
    "#### By"
   ]
  },
  {
   "cell_type": "markdown",
   "id": "bbeb0a6b-4b67-49c1-88ef-af9ce93e05f0",
   "metadata": {},
   "source": [
    "## Ebenezer Adebiyi"
   ]
  },
  {
   "cell_type": "markdown",
   "id": "be0c8416-d746-4ab6-904f-3600a658f33d",
   "metadata": {},
   "source": [
    "### Linkedin : Ebenezer Adebiyi\n",
    "### Email : Ebenezerdadebiyi@gmail.com"
   ]
  }
 ],
 "metadata": {
  "kernelspec": {
   "display_name": "Python [conda env:base] *",
   "language": "python",
   "name": "conda-base-py"
  },
  "language_info": {
   "codemirror_mode": {
    "name": "ipython",
    "version": 3
   },
   "file_extension": ".py",
   "mimetype": "text/x-python",
   "name": "python",
   "nbconvert_exporter": "python",
   "pygments_lexer": "ipython3",
   "version": "3.12.4"
  }
 },
 "nbformat": 4,
 "nbformat_minor": 5
}
